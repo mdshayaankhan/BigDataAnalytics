{
 "cells": [
  {
   "cell_type": "code",
   "execution_count": 1,
   "id": "c2d389ac-a9d5-418c-9b72-59f66ad6f47d",
   "metadata": {},
   "outputs": [
    {
     "data": {
      "text/html": [
       "\n",
       "        <div>\n",
       "            <p><b>SparkContext</b></p>\n",
       "\n",
       "            <p><a href=\"http://192.168.137.253:4041\">Spark UI</a></p>\n",
       "\n",
       "            <dl>\n",
       "              <dt>Version</dt>\n",
       "                <dd><code>v4.0.0</code></dd>\n",
       "              <dt>Master</dt>\n",
       "                <dd><code>local[*]</code></dd>\n",
       "              <dt>AppName</dt>\n",
       "                <dd><code>PySparkShell</code></dd>\n",
       "            </dl>\n",
       "        </div>\n",
       "        "
      ],
      "text/plain": [
       "<SparkContext master=local[*] appName=PySparkShell>"
      ]
     },
     "execution_count": 1,
     "metadata": {},
     "output_type": "execute_result"
    }
   ],
   "source": [
    "sc\n"
   ]
  },
  {
   "cell_type": "code",
   "execution_count": 2,
   "id": "8c90f72e-1b1d-4b0c-955c-51a9ff462b9e",
   "metadata": {},
   "outputs": [],
   "source": [
    "import random"
   ]
  },
  {
   "cell_type": "code",
   "execution_count": 3,
   "id": "a0838279-7df7-4fed-afd9-b5686e678ea6",
   "metadata": {},
   "outputs": [
    {
     "name": "stdout",
     "output_type": "stream",
     "text": [
      "Original List:\n",
      "[435, 598, 80, 719, 601, 383, 484, 174, 879, 859, 248, 689, 892, 44, 718, 386, 311, 429, 811, 214, 101, 733, 82, 129, 264, 335, 325, 350, 8, 329, 775, 479, 608, 158, 721, 254, 284, 739, 389, 358, 676, 469, 937, 357, 745, 77, 710, 959, 518, 226, 55, 45, 531, 723, 229, 380, 277, 591, 680, 434, 494, 126, 978, 701, 107, 321, 558, 717, 159, 566, 33, 840, 100, 406, 995, 821, 249, 99, 396, 908, 151, 834, 450, 357, 884, 578, 446, 565, 461, 726, 778, 885, 342, 75, 694, 888, 687, 913, 538, 835]\n"
     ]
    }
   ],
   "source": [
    " random_numbers = [random.randint(1, 1000) for _ in range(100)]\n",
    " print(\"Original List:\")\n",
    " print(random_numbers)"
   ]
  },
  {
   "cell_type": "code",
   "execution_count": 4,
   "id": "23208816-2f72-4174-b89b-98bbe515fdfb",
   "metadata": {},
   "outputs": [],
   "source": [
    " numbers_rdd = sc.parallelize(random_numbers)"
   ]
  },
  {
   "cell_type": "code",
   "execution_count": 5,
   "id": "afad9944-5983-4339-b645-ba4f1a3a4278",
   "metadata": {},
   "outputs": [],
   "source": [
    " even_numbers_rdd = numbers_rdd.filter(lambda x: x % 2 == 0)"
   ]
  },
  {
   "cell_type": "code",
   "execution_count": 6,
   "id": "685fdadf-a1a1-4739-8f7a-775b58396494",
   "metadata": {},
   "outputs": [
    {
     "name": "stdout",
     "output_type": "stream",
     "text": [
      "\n",
      "Even Numbers:\n",
      "[598, 80, 484, 174, 248, 892, 44, 718, 386, 214, 82, 264, 350, 8, 608, 158, 254, 284, 358, 676, 710, 518, 226, 380, 680, 434, 494, 126, 978, 558, 566, 840, 100, 406, 396, 908, 834, 450, 884, 578, 446, 726, 778, 342, 694, 888, 538]\n"
     ]
    }
   ],
   "source": [
    " even_numbers = even_numbers_rdd.collect()\n",
    " print(\"\\nEven Numbers:\")\n",
    " print(even_numbers)"
   ]
  },
  {
   "cell_type": "code",
   "execution_count": 7,
   "id": "544fab49-d389-40f1-8faf-f2760a8d1146",
   "metadata": {},
   "outputs": [],
   "source": [
    "sc.stop()"
   ]
  },
  {
   "cell_type": "code",
   "execution_count": null,
   "id": "9fa737c7-5c36-40de-ba7f-5bcf950acfad",
   "metadata": {},
   "outputs": [],
   "source": []
  }
 ],
 "metadata": {
  "kernelspec": {
   "display_name": "Python 3 (ipykernel)",
   "language": "python",
   "name": "python3"
  },
  "language_info": {
   "codemirror_mode": {
    "name": "ipython",
    "version": 3
   },
   "file_extension": ".py",
   "mimetype": "text/x-python",
   "name": "python",
   "nbconvert_exporter": "python",
   "pygments_lexer": "ipython3",
   "version": "3.10.8"
  }
 },
 "nbformat": 4,
 "nbformat_minor": 5
}
